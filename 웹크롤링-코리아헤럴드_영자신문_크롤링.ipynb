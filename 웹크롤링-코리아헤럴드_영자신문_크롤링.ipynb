{
 "cells": [
  {
   "cell_type": "code",
   "execution_count": null,
   "id": "ffea75a6",
   "metadata": {},
   "outputs": [],
   "source": [
    "import urllib.request as req\n",
    "from bs4 import BeautifulSoup\n",
    "import re\n",
    "\n",
    "keyword = input(\"영어로 키워드 입력 >> \")\n",
    "page_num = 1\n",
    "while True:\n",
    "    url = \"http://www.koreaherald.com/search/index.php?q={}&sort=1&mode=list&np={}&mp=1\".format(keyword, page_num)\n",
    "    code = req.urlopen(url)\n",
    "    soup = BeautifulSoup(code, \"html.parser\")\n",
    "    articles = soup.select(\"ul.main_sec_li > li > a\")\n",
    "    if len(articles) == 0:\n",
    "        break\n",
    "    for i in articles:\n",
    "        title = i.select_one(\"div.main_l_t1\")\n",
    "        print(\"제목 :\", title.text)\n",
    "        link = \"http://www.koreaherald.com\" + i.attrs[\"href\"]\n",
    "        code_news = req.urlopen(link)\n",
    "        soup_news = BeautifulSoup(code_news, \"html.parser\")\n",
    "        contents = soup_news.select_one(\"div#articleText\")\n",
    "        # 데이터 가공\n",
    "        result = re.sub(r'(\\\\[x]..)|(\\\\r)|(\\\\n)|(\\\\t)|(\\(Yonhap\\))', \"\", contents.text.strip())\n",
    "        print(result)\n",
    "        print()\n",
    "    page_num += 1"
   ]
  }
 ],
 "metadata": {
  "kernelspec": {
   "display_name": "Python 3 (ipykernel)",
   "language": "python",
   "name": "python3"
  },
  "language_info": {
   "codemirror_mode": {
    "name": "ipython",
    "version": 3
   },
   "file_extension": ".py",
   "mimetype": "text/x-python",
   "name": "python",
   "nbconvert_exporter": "python",
   "pygments_lexer": "ipython3",
   "version": "3.9.7"
  }
 },
 "nbformat": 4,
 "nbformat_minor": 5
}
